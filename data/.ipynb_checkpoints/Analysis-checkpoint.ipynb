{
 "cells": [
  {
   "cell_type": "code",
   "execution_count": 88,
   "metadata": {},
   "outputs": [],
   "source": [
    "import numpy as np\n",
    "import pandas as pd\n",
    "import matplotlib.pyplot as plt"
   ]
  },
  {
   "cell_type": "code",
   "execution_count": 93,
   "metadata": {},
   "outputs": [
    {
     "name": "stdout",
     "output_type": "stream",
     "text": [
      "Monolingual English\n",
      "Word Count Total:  8820344\n",
      "Vocab Size by Words:  60008\n"
     ]
    }
   ],
   "source": [
    "print(\"Monolingual English\")\n",
    "bow = []\n",
    "sentence_length = []\n",
    "with open('../processed/unaligned.en', \"r\") as text_file:\n",
    "    for line in text_file:\n",
    "        stripped_line = line.strip()\n",
    "        bow.extend(stripped_line.split())\n",
    "        sentence_length.append(len(stripped_line.split()))\n",
    "print(\"Word Count Total: \", sum(sentence_length))     \n",
    "vocab = pd.DataFrame(list(zip(bow, bow, [1] * len(bow))), columns =['Word', 'Token','Count']).groupby('Word',sort=False)['Token'].count().to_dict()\n",
    "print(\"Vocab Size by Words: \", len(vocab))"
   ]
  },
  {
   "cell_type": "code",
   "execution_count": 94,
   "metadata": {},
   "outputs": [
    {
     "name": "stdout",
     "output_type": "stream",
     "text": [
      "Monolingual French\n",
      "Word Count Total:  9746232\n",
      "Vocab Size by Words:  83314\n"
     ]
    }
   ],
   "source": [
    "print(\"Monolingual French\")\n",
    "bow = []\n",
    "sentence_length = []\n",
    "with open('../processed/unaligned.fr', \"r\") as text_file:\n",
    "    for line in text_file:\n",
    "        stripped_line = line.strip()\n",
    "        bow.extend(stripped_line.split())\n",
    "        sentence_length.append(len(stripped_line.split()))\n",
    "print(\"Word Count Total: \", sum(sentence_length))     \n",
    "vocab = pd.DataFrame(list(zip(bow, bow, [1] * len(bow))), columns =['Word', 'Token','Count']).groupby('Word',sort=False)['Token'].count().to_dict()\n",
    "print(\"Vocab Size by Words: \", len(vocab))"
   ]
  },
  {
   "cell_type": "code",
   "execution_count": 95,
   "metadata": {},
   "outputs": [
    {
     "name": "stdout",
     "output_type": "stream",
     "text": [
      "Parallel English\n",
      "Word Count Total:  205361\n",
      "Vocab Size by Words:  13657\n"
     ]
    }
   ],
   "source": [
    "print(\"Parallel English\")\n",
    "bow = []\n",
    "sentence_length = []\n",
    "with open('../processed/train.lang1', \"r\") as text_file:\n",
    "    for line in text_file:\n",
    "        stripped_line = line.strip()\n",
    "        bow.extend(stripped_line.split())\n",
    "        sentence_length.append(len(stripped_line.split()))\n",
    "print(\"Word Count Total: \", sum(sentence_length))     \n",
    "vocab = pd.DataFrame(list(zip(bow, bow, [1] * len(bow))), columns =['Word', 'Token','Count']).groupby('Word',sort=False)['Token'].count().to_dict()\n",
    "print(\"Vocab Size by Words: \", len(vocab))"
   ]
  },
  {
   "cell_type": "code",
   "execution_count": 96,
   "metadata": {},
   "outputs": [
    {
     "name": "stdout",
     "output_type": "stream",
     "text": [
      "Parallel French\n",
      "Word Count Total:  227856\n",
      "Vocab Size by Words:  18222\n"
     ]
    }
   ],
   "source": [
    "print(\"Parallel French\")\n",
    "bow = []\n",
    "sentence_length = []\n",
    "with open('../processed/train.lang2', \"r\") as text_file:\n",
    "    for line in text_file:\n",
    "        stripped_line = line.strip()\n",
    "        bow.extend(stripped_line.split())\n",
    "        sentence_length.append(len(stripped_line.split()))\n",
    "print(\"Word Count Total: \", sum(sentence_length))     \n",
    "vocab = pd.DataFrame(list(zip(bow, bow, [1] * len(bow))), columns =['Word', 'Token','Count']).groupby('Word',sort=False)['Token'].count().to_dict()\n",
    "print(\"Vocab Size by Words: \", len(vocab))"
   ]
  },
  {
   "cell_type": "code",
   "execution_count": null,
   "metadata": {},
   "outputs": [],
   "source": []
  }
 ],
 "metadata": {
  "kernelspec": {
   "display_name": "Python 3",
   "language": "python",
   "name": "python3"
  },
  "language_info": {
   "codemirror_mode": {
    "name": "ipython",
    "version": 3
   },
   "file_extension": ".py",
   "mimetype": "text/x-python",
   "name": "python",
   "nbconvert_exporter": "python",
   "pygments_lexer": "ipython3",
   "version": "3.7.4"
  }
 },
 "nbformat": 4,
 "nbformat_minor": 2
}
